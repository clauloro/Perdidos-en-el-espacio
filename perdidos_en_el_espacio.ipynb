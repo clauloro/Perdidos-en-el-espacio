{
 "cells": [
  {
   "attachments": {},
   "cell_type": "markdown",
   "metadata": {},
   "source": [
    "Imagina que en el futuro una nave espacial tripulada parte de la Tierra hacia el planeta Neptuno.\n",
    "\n",
    "Durante el viaje, la tripulación permanece en estado de animación suspendida. En el trayecto la nave\n",
    "sufre una grave avería y el sistema automático de control la dirige al cuerpo celeste más cercano,\n",
    "donde realiza un aterrizaje de emergencia. Al posarse sobre la superficie, el sistema de soporte vital\n",
    "de la nave reanima a la tripulación.\n",
    "\n",
    "Una vez despiertos, los tripulantes descubren que el sistema de posicionamiento espacial no\n",
    "funciona y por el momento no tienen comunicación con la Tierra ni pueden mirar al exterior de la\n",
    "nave por razones de seguridad. Así que no saben dónde están, no tienen ningún dato del exterior,\n",
    "ni posibilidad de conseguirlo, ni saben cuánto tiempo ha pasado.\n",
    "\n",
    "En su trayecto entre la Tierra y Neptuno han podido estar cerca de la propia Tierra, Marte, Júpiter,\n",
    "Saturno, Urano, Neptuno y las lunas de cualquiera de ellos"
   ]
  },
  {
   "cell_type": "code",
   "execution_count": null,
   "metadata": {},
   "outputs": [],
   "source": [
    "import pandas as pd\n",
    "\n",
    "data = {'Planeta': ['Tierra', 'Marte', 'Júpiter', 'Saturno', 'Urano', 'Neptuno'],\n",
    "        'g (m/s²)': [9.8, 3.7, 24.8, 9.0, 8.7, 11.0]}\n",
    "\n",
    "df = pd.DataFrame(data)\n",
    "\n",
    "print(df)"
   ]
  },
  {
   "cell_type": "markdown",
   "metadata": {},
   "source": []
  }
 ],
 "metadata": {
  "language_info": {
   "name": "python"
  },
  "orig_nbformat": 4
 },
 "nbformat": 4,
 "nbformat_minor": 2
}
