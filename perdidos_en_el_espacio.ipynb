{
 "cells": [
  {
   "attachments": {},
   "cell_type": "markdown",
   "metadata": {},
   "source": [
    "Imagina que en el futuro una nave espacial tripulada parte de la Tierra hacia el planeta Neptuno.\n",
    "\n",
    "Durante el viaje, la tripulación permanece en estado de animación suspendida. En el trayecto la nave\n",
    "sufre una grave avería y el sistema automático de control la dirige al cuerpo celeste más cercano,\n",
    "donde realiza un aterrizaje de emergencia. Al posarse sobre la superficie, el sistema de soporte vital\n",
    "de la nave reanima a la tripulación.\n",
    "\n",
    "Una vez despiertos, los tripulantes descubren que el sistema de posicionamiento espacial no\n",
    "funciona y por el momento no tienen comunicación con la Tierra ni pueden mirar al exterior de la\n",
    "nave por razones de seguridad. Así que no saben dónde están, no tienen ningún dato del exterior,\n",
    "ni posibilidad de conseguirlo, ni saben cuánto tiempo ha pasado.\n",
    "\n",
    "En su trayecto entre la Tierra y Neptuno han podido estar cerca de la propia Tierra, Marte, Júpiter,\n",
    "Saturno, Urano, Neptuno y las lunas de cualquiera de ellos"
   ]
  },
  {
   "cell_type": "code",
   "execution_count": 1,
   "metadata": {},
   "outputs": [
    {
     "name": "stdout",
     "output_type": "stream",
     "text": [
      "   Planeta  g (m/s²)\n",
      "0   Tierra       9.8\n",
      "1    Marte       3.7\n",
      "2  Júpiter      24.8\n",
      "3  Saturno       9.0\n",
      "4    Urano       8.7\n",
      "5  Neptuno      11.0\n"
     ]
    }
   ],
   "source": [
    "import pandas as pd\n",
    "\n",
    "data = {'Planeta': ['Tierra', 'Marte', 'Júpiter', 'Saturno', 'Urano', 'Neptuno'],\n",
    "        'g (m/s²)': [9.8, 3.7, 24.8, 9.0, 8.7, 11.0]}\n",
    "\n",
    "df = pd.DataFrame(data)\n",
    "\n",
    "print(df)"
   ]
  },
  {
   "cell_type": "markdown",
   "metadata": {},
   "source": []
  }
 ],
 "metadata": {
  "kernelspec": {
   "display_name": "Python 3",
   "language": "python",
   "name": "python3"
  },
  "language_info": {
   "codemirror_mode": {
    "name": "ipython",
    "version": 3
   },
   "file_extension": ".py",
   "mimetype": "text/x-python",
   "name": "python",
   "nbconvert_exporter": "python",
   "pygments_lexer": "ipython3",
   "version": "3.10.11"
  },
  "orig_nbformat": 4
 },
 "nbformat": 4,
 "nbformat_minor": 2
}
