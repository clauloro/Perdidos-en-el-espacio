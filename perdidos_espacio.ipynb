{
 "cells": [
  {
   "attachments": {},
   "cell_type": "markdown",
   "metadata": {},
   "source": [
    "# Perdidos en el espacio\n",
    "\n",
    "Imagina que en el futuro una nave espacial tripulada parte de la Tierra hacia el planeta Neptuno.\n",
    "\n",
    "Durante el viaje, la tripulación permanece en estado de animación suspendida. En el trayecto la nave\n",
    "sufre una grave avería y el sistema automático de control la dirige al cuerpo celeste más cercano,\n",
    "donde realiza un aterrizaje de emergencia. Al posarse sobre la superficie, el sistema de soporte vital\n",
    "de la nave reanima a la tripulación.\n",
    "\n",
    "Una vez despiertos, los tripulantes descubren que el sistema de posicionamiento espacial no\n",
    "funciona y por el momento no tienen comunicación con la Tierra ni pueden mirar al exterior de la\n",
    "nave por razones de seguridad. Así que no saben dónde están, no tienen ningún dato del exterior,\n",
    "ni posibilidad de conseguirlo, ni saben cuánto tiempo ha pasado.\n",
    "\n",
    "En su trayecto entre la Tierra y Neptuno han podido estar cerca de la propia Tierra, Marte, Júpiter,\n",
    "Saturno, Urano, Neptuno y las lunas de cualquiera de ellos"
   ]
  },
  {
   "cell_type": "code",
   "execution_count": 1,
   "metadata": {},
   "outputs": [],
   "source": [
    "import random\n",
    "import pandas as pd\n",
    "import numpy as np\n",
    "import matplotlib.pyplot as plt\n",
    "from faker import Faker\n",
    "from sklearn.preprocessing import LabelEncoder"
   ]
  },
  {
   "attachments": {},
   "cell_type": "markdown",
   "metadata": {},
   "source": [
    "# Datos Experimentales\n"
   ]
  },
  {
   "cell_type": "code",
   "execution_count": 3,
   "metadata": {},
   "outputs": [
    {
     "name": "stdout",
     "output_type": "stream",
     "text": [
      "   ID  Longitud (m)  Tiempo (s)  g_calculado (m/s²) Planeta más probable  \\\n",
      "0   1          1.00        0.46                9.48         Tierra (95%)   \n",
      "1   2          2.00        0.66                9.18        Saturno (60%)   \n",
      "2   3          1.10        0.48                9.50         Tierra (96%)   \n",
      "3   4          1.25        0.50               10.00         Tierra (90%)   \n",
      "4   5          1.50        0.55                9.92         Tierra (98%)   \n",
      "5   6          1.75        0.59               10.08         Tierra (92%)   \n",
      "6   7          1.60        0.56               10.20         Tierra (85%)   \n",
      "7   8          2.20        0.67                9.75         Tierra (75%)   \n",
      "8   9          1.30        0.57                8.02        Saturno (90%)   \n",
      "9  10          1.05        0.47                9.50         Tierra (96%)   \n",
      "\n",
      "  2do más probable 3ro más probable  \n",
      "0     Saturno (5%)       Urano (0%)  \n",
      "1     Tierra (40%)       Urano (0%)  \n",
      "2     Saturno (4%)       Urano (0%)  \n",
      "3    Saturno (10%)       Urano (0%)  \n",
      "4     Saturno (2%)       Urano (0%)  \n",
      "5     Saturno (8%)       Urano (0%)  \n",
      "6    Saturno (15%)       Urano (0%)  \n",
      "7    Saturno (25%)       Urano (0%)  \n",
      "8      Urano (10%)      Tierra (0%)  \n",
      "9     Saturno (4%)       Urano (0%)  \n"
     ]
    }
   ],
   "source": [
    "df = pd.read_csv(\"dataset.csv\")\n",
    "print(df)\n"
   ]
  }
 ],
 "metadata": {
  "kernelspec": {
   "display_name": "Python 3",
   "language": "python",
   "name": "python3"
  },
  "language_info": {
   "codemirror_mode": {
    "name": "ipython",
    "version": 3
   },
   "file_extension": ".py",
   "mimetype": "text/x-python",
   "name": "python",
   "nbconvert_exporter": "python",
   "pygments_lexer": "ipython3",
   "version": "3.10.11"
  },
  "orig_nbformat": 4
 },
 "nbformat": 4,
 "nbformat_minor": 2
}
